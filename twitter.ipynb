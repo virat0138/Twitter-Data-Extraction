{
  "nbformat": 4,
  "nbformat_minor": 0,
  "metadata": {
    "colab": {
      "name": "twitter.ipynb",
      "provenance": [],
      "collapsed_sections": [],
      "include_colab_link": true
    },
    "kernelspec": {
      "name": "python3",
      "display_name": "Python 3"
    },
    "language_info": {
      "name": "python"
    }
  },
  "cells": [
    {
      "cell_type": "markdown",
      "metadata": {
        "id": "view-in-github",
        "colab_type": "text"
      },
      "source": [
        "<a href=\"https://colab.research.google.com/github/virat0138/Twitter-Data-Extraction/blob/main/twitter.ipynb\" target=\"_parent\"><img src=\"https://colab.research.google.com/assets/colab-badge.svg\" alt=\"Open In Colab\"/></a>"
      ]
    },
    {
      "cell_type": "code",
      "metadata": {
        "id": "S2QGx4H-3wSd",
        "colab": {
          "base_uri": "https://localhost:8080/"
        },
        "outputId": "701568ad-c267-4aa4-9b0b-0551532f7f69"
      },
      "source": [
        "# twitter data extraction\n",
        "import tweepy as tw\n",
        "from tweepy import *\n",
        "import pandas as pd\n",
        "import csv    #common separated values\n",
        "import re     #regular expression\n",
        "import string\n",
        "import preprocessor as p\n",
        "auth = tweepy.OAuthHandler(\"api_key\", \"api_secret\")\n",
        "auth.set_access_token(\"access_key\", \"access_secret\")\n",
        "api = tweepy.API(auth,wait_on_rate_limit=True)\n",
        "search_words = \"#anyword\"\n",
        "date_since = \"yyyy-mm-dd\"\n",
        "tweets = tw.Cursor(api.search,\n",
        "              q=search_words,lang=\"en\",\n",
        "              since=date_since).items(100)\n",
        "for tweet in tweets:\n",
        "print(tweet.text)"
      ],
      "execution_count": null,
      "outputs": [
        {
          "output_type": "stream",
          "text": [
            "[nltk_data] Downloading package punkt to /root/nltk_data...\n",
            "[nltk_data]   Package punkt is already up-to-date!\n",
            "[('#', 2), ('ipl', 1), ('srhvsrcb', 1), ('All', 1), ('the', 1), ('matches', 1), ('in', 1), ('chepauk', 1), ('are', 1), ('directed', 1)]\n",
            "[('#', 7), (':', 3), ('RCB', 2), ('SRH', 2), ('RT', 1), ('@', 1), ('Cricketracker', 1), ('against', 1), ('today', 1), ('😁', 1)]\n",
            "[('#', 6), ('@', 3), ('|', 3), ('RT', 1), ('rohitionss45', 1), (':', 1), ('Third', 1), ('Indian', 1), ('And', 1), ('Overall', 1)]\n",
            "[('#', 6), ('@', 3), ('|', 3), ('RT', 1), ('rohitionss45', 1), (':', 1), ('Third', 1), ('Indian', 1), ('And', 1), ('Overall', 1)]\n",
            "[('@', 2), ('Chennai', 2), ('RT', 1), ('SuryahSG', 1), (':', 1), ('Elected', 1), ('Central', 1), ('Lok', 1), ('Sabha', 1), ('MP', 1)]\n",
            "[('#', 7), (':', 3), ('RCB', 2), ('SRH', 2), ('RT', 1), ('@', 1), ('Cricketracker', 1), ('against', 1), ('today', 1), ('😁', 1)]\n",
            "[('#', 6), (':', 2), ('RCB', 2), ('RT', 1), ('@', 1), ('Cricketracker', 1), ('defended', 1), ('their', 1), ('lowest', 1), ('total', 1)]\n",
            "[('#', 7), (':', 3), ('RCB', 2), ('SRH', 2), ('RT', 1), ('@', 1), ('Cricketracker', 1), ('against', 1), ('today', 1), ('😁', 1)]\n",
            "[('people', 2), ('masks', 2), ('RT', 1), ('@', 1), ('abhiandniyu', 1), (':', 1), ('My', 1), ('lockdown', 1), ('fatigued', 1), ('eye', 1)]\n",
            "[('#', 7), (':', 3), ('RCB', 2), ('SRH', 2), ('RT', 1), ('@', 1), ('Cricketracker', 1), ('against', 1), ('today', 1), ('😁', 1)]\n"
          ],
          "name": "stdout"
        }
      ]
    },
    {
      "cell_type": "code",
      "metadata": {
        "colab": {
          "base_uri": "https://localhost:8080/"
        },
        "id": "W1CJQYa3aD4l",
        "outputId": "4cf4ff63-5c11-4152-ef9e-7e52dc4e656c"
      },
      "source": [
        "pip install preprocessor"
      ],
      "execution_count": null,
      "outputs": [
        {
          "output_type": "stream",
          "text": [
            "Collecting preprocessor\n",
            "  Downloading https://files.pythonhosted.org/packages/96/ad/d9f4ffb9bb97d1cb5bcb876b7932571d4dbaa3eff1701ad45d367f0ea27b/preprocessor-1.1.3.tar.gz\n",
            "Building wheels for collected packages: preprocessor\n",
            "  Building wheel for preprocessor (setup.py) ... \u001b[?25l\u001b[?25hdone\n",
            "  Created wheel for preprocessor: filename=preprocessor-1.1.3-cp37-none-any.whl size=4477 sha256=92632eae0d0d7b9763002d4415b84dcd466947e89e0d4b392dd9dc12c5a3e04c\n",
            "  Stored in directory: /root/.cache/pip/wheels/98/c1/a2/21fbcfd80d76576bbf148991a66f00730f541f265c7600000f\n",
            "Successfully built preprocessor\n",
            "Installing collected packages: preprocessor\n",
            "Successfully installed preprocessor-1.1.3\n"
          ],
          "name": "stdout"
        }
      ]
    },
    {
      "cell_type": "code",
      "metadata": {
        "id": "yYMpwsXmAokb"
      },
      "source": [
        "# text mining on twitter data\n",
        "import tweepy as tw\n",
        "from tweepy import *\n",
        "import pandas as pd\n",
        "import csv    #common separated values\n",
        "import re     #regular expression\n",
        "import string\n",
        "import preprocessor as p\n",
        "import numpy as np\n",
        "import nltk    #Natural Language Toolkit\n",
        "import nltk.corpus\n",
        "from nltk.tokenize import word_tokenize\n",
        "from nltk.probability import FreqDist\n",
        "nltk.download('punkt')\n",
        "auth = tweepy.OAuthHandler(\"api_key\", \"api_secret\")\n",
        "auth.set_access_token(\"access_key\", \"access_secret\")\n",
        "api = tweepy.API(auth,wait_on_rate_limit=True)\n",
        "search_words = \"#anyword\"\n",
        "date_since = \"yyyy-mm-dd\"\n",
        "for tweet in tweets:\n",
        "token = word_tokenize(tweet.text)\n",
        "fdist = FreqDist(token)\n",
        "fdist1 = fdist.most_common(10)  #frequency for most common 10 tweet \n",
        "print(fdist1)"
      ],
      "execution_count": null,
      "outputs": []
    }
  ]
}